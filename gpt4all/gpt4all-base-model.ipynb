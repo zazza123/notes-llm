{
 "cells": [
  {
   "cell_type": "markdown",
   "metadata": {},
   "source": [
    "# GPT4All (Load Base Model)\n",
    "\n",
    "This notebook was created on **22/07/2024** using python 3.12 version.  \n",
    "The notebook is used to provide an example of GPT4All model used on a local PC loaded from a specific folder.\n",
    "\n",
    "#### Preliminary Steps\n",
    "\n",
    "1. Open the Jupyter Notebook *gpt4all-model-list.ipynb* and run it to choose a model to download.\n",
    "2. To better organise the gp4all models I suggest to save them all on a specific folder.\n",
    "\n",
    "For this example I am going to use the model **GPT4All Falcon** (*gpt4all-falcon-newbpe-q4_0.gguf*). \\\n",
    "Observe that for this model is suggested a 8 GB RAM computer."
   ]
  },
  {
   "cell_type": "code",
   "execution_count": 1,
   "metadata": {},
   "outputs": [
    {
     "name": "stdout",
     "output_type": "stream",
     "text": [
      "Requirement already satisfied: gpt4all==2.7.0 in /Users/andreazanini/.pyenv/versions/3.12.0/envs/py312gpt4all/lib/python3.12/site-packages (2.7.0)\n",
      "Requirement already satisfied: requests in /Users/andreazanini/.pyenv/versions/3.12.0/envs/py312gpt4all/lib/python3.12/site-packages (from gpt4all==2.7.0) (2.32.3)\n",
      "Requirement already satisfied: tqdm in /Users/andreazanini/.pyenv/versions/3.12.0/envs/py312gpt4all/lib/python3.12/site-packages (from gpt4all==2.7.0) (4.66.4)\n",
      "Requirement already satisfied: charset-normalizer<4,>=2 in /Users/andreazanini/.pyenv/versions/3.12.0/envs/py312gpt4all/lib/python3.12/site-packages (from requests->gpt4all==2.7.0) (3.3.2)\n",
      "Requirement already satisfied: idna<4,>=2.5 in /Users/andreazanini/.pyenv/versions/3.12.0/envs/py312gpt4all/lib/python3.12/site-packages (from requests->gpt4all==2.7.0) (3.7)\n",
      "Requirement already satisfied: urllib3<3,>=1.21.1 in /Users/andreazanini/.pyenv/versions/3.12.0/envs/py312gpt4all/lib/python3.12/site-packages (from requests->gpt4all==2.7.0) (2.2.2)\n",
      "Requirement already satisfied: certifi>=2017.4.17 in /Users/andreazanini/.pyenv/versions/3.12.0/envs/py312gpt4all/lib/python3.12/site-packages (from requests->gpt4all==2.7.0) (2024.7.4)\n",
      "Note: you may need to restart the kernel to use updated packages.\n"
     ]
    }
   ],
   "source": [
    "# Install all required libraries\n",
    "%pip install gpt4all==2.7.0"
   ]
  },
  {
   "cell_type": "code",
   "execution_count": 3,
   "metadata": {},
   "outputs": [],
   "source": [
    "from pathlib import Path\n",
    "\n",
    "# set model path and name\n",
    "model_path = Path().home() / \".data\" / \"model\"\n",
    "if not model_path.exists():\n",
    "    raise Exception(f\"The path '{model_path}' does not exists!\")\n",
    "\n",
    "model_name = \"gpt4all-falcon-newbpe-q4_0.gguf\""
   ]
  },
  {
   "cell_type": "code",
   "execution_count": 4,
   "metadata": {},
   "outputs": [
    {
     "name": "stdout",
     "output_type": "stream",
     "text": [
      "Where is Bergamo?\n",
      "\n",
      "Bergamo is a city in Lombardy, Italy. It is located in the northwest of the country, near the border with Switzerland and Austria.\n"
     ]
    }
   ],
   "source": [
    "from gpt4all import GPT4All\n",
    "\n",
    "model = GPT4All(model_name = model_name, model_path = model_path, allow_download = False)\n",
    "\n",
    "question = \"Where is Bergamo?\"\n",
    "print(question)\n",
    "\n",
    "response = model.generate(question)\n",
    "print(response)"
   ]
  }
 ],
 "metadata": {
  "kernelspec": {
   "display_name": "py312gpt4all",
   "language": "python",
   "name": "python3"
  },
  "language_info": {
   "codemirror_mode": {
    "name": "ipython",
    "version": 3
   },
   "file_extension": ".py",
   "mimetype": "text/x-python",
   "name": "python",
   "nbconvert_exporter": "python",
   "pygments_lexer": "ipython3",
   "version": "3.12.0"
  }
 },
 "nbformat": 4,
 "nbformat_minor": 2
}
